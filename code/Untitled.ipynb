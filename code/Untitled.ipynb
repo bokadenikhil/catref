{
 "cells": [
  {
   "cell_type": "code",
   "execution_count": 10,
   "id": "1d6de708",
   "metadata": {},
   "outputs": [],
   "source": [
    "import pandas as pd\n",
    "import matplotlib.pyplot as plt"
   ]
  },
  {
   "cell_type": "code",
   "execution_count": 3,
   "id": "1703efcb",
   "metadata": {},
   "outputs": [],
   "source": [
    "path = r'..\\src'\n",
    "df = pd.read_excel(path+'\\ccr-data.xlsx')"
   ]
  },
  {
   "cell_type": "code",
   "execution_count": 5,
   "id": "3f0eb131",
   "metadata": {},
   "outputs": [],
   "source": [
    "df.drop('State',axis=1,inplace=True)"
   ]
  },
  {
   "cell_type": "code",
   "execution_count": 6,
   "id": "50b843b3",
   "metadata": {},
   "outputs": [
    {
     "data": {
      "text/plain": [
       "(3076, 9)"
      ]
     },
     "execution_count": 6,
     "metadata": {},
     "output_type": "execute_result"
    }
   ],
   "source": [
    "df.shape"
   ]
  },
  {
   "cell_type": "code",
   "execution_count": 8,
   "id": "8f79063b",
   "metadata": {},
   "outputs": [],
   "source": [
    "df = df.iloc[2:,:]"
   ]
  },
  {
   "cell_type": "code",
   "execution_count": 25,
   "id": "367a7ece",
   "metadata": {},
   "outputs": [
    {
     "name": "stderr",
     "output_type": "stream",
     "text": [
      "C:\\Users\\Nikhil.Bokade\\AppData\\Local\\Temp\\ipykernel_7964\\1379821321.py:1: SettingWithCopyWarning: \n",
      "A value is trying to be set on a copy of a slice from a DataFrame\n",
      "\n",
      "See the caveats in the documentation: https://pandas.pydata.org/pandas-docs/stable/user_guide/indexing.html#returning-a-view-versus-a-copy\n",
      "  df.dropna(inplace=True)\n"
     ]
    }
   ],
   "source": [
    "df.dropna(inplace=True)"
   ]
  },
  {
   "cell_type": "code",
   "execution_count": 26,
   "id": "c52f2cf5",
   "metadata": {},
   "outputs": [],
   "source": [
    "target_col = ['Reformate RON', ' C5+ RON', 'C6+ RON']\n",
    "X,y = df.drop(target_col,axis=1), df[target_col]"
   ]
  },
  {
   "cell_type": "code",
   "execution_count": 28,
   "id": "0d49aa02",
   "metadata": {},
   "outputs": [],
   "source": [
    "from sklearn.model_selection import train_test_split\n",
    "X_train,X_test,y_train,y_test = train_test_split(X,y,test_size=0.2,random_state=42)"
   ]
  },
  {
   "cell_type": "code",
   "execution_count": 29,
   "id": "a07a8e94",
   "metadata": {},
   "outputs": [],
   "source": [
    "from sklearn.ensemble import RandomForestRegressor\n",
    "rf = RandomForestRegressor(random_state=42)"
   ]
  },
  {
   "cell_type": "code",
   "execution_count": 30,
   "id": "6c4d1d61",
   "metadata": {},
   "outputs": [],
   "source": [
    "rf.fit(X_train,y_train)\n",
    "y_pred = rf.predict(X_test)"
   ]
  },
  {
   "cell_type": "code",
   "execution_count": 33,
   "id": "ee0b880b",
   "metadata": {},
   "outputs": [],
   "source": [
    "y_pred = pd.DataFrame(y_pred)\n",
    "y_pred.columns = y_train.columns"
   ]
  },
  {
   "cell_type": "code",
   "execution_count": 44,
   "id": "73488144",
   "metadata": {},
   "outputs": [],
   "source": [
    "import pickle\n",
    "with open(r'..\\model\\model.pkl', 'wb') as file:\n",
    "      \n",
    "    # A new file will be created\n",
    "    pickle.dump(rf, file)"
   ]
  },
  {
   "cell_type": "code",
   "execution_count": 5,
   "id": "0a781f9b",
   "metadata": {},
   "outputs": [],
   "source": [
    "import pickle\n",
    "model_path = r'..\\model'\n",
    "model_filename = r'\\model.pkl'\n",
    "with open(model_path+model_filename,'rb') as file:\n",
    "    rf = pickle.load(file)"
   ]
  },
  {
   "cell_type": "code",
   "execution_count": 6,
   "id": "789d29f1",
   "metadata": {},
   "outputs": [
    {
     "data": {
      "text/plain": [
       "RandomForestRegressor(random_state=42)"
      ]
     },
     "execution_count": 6,
     "metadata": {},
     "output_type": "execute_result"
    }
   ],
   "source": [
    "rf"
   ]
  },
  {
   "cell_type": "code",
   "execution_count": null,
   "id": "7ed56b7e",
   "metadata": {},
   "outputs": [],
   "source": []
  }
 ],
 "metadata": {
  "kernelspec": {
   "display_name": "Python 3 (ipykernel)",
   "language": "python",
   "name": "python3"
  },
  "language_info": {
   "codemirror_mode": {
    "name": "ipython",
    "version": 3
   },
   "file_extension": ".py",
   "mimetype": "text/x-python",
   "name": "python",
   "nbconvert_exporter": "python",
   "pygments_lexer": "ipython3",
   "version": "3.9.12"
  }
 },
 "nbformat": 4,
 "nbformat_minor": 5
}
